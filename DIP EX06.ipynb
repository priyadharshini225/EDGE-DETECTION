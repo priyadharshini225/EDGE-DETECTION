{
 "cells": [
  {
   "cell_type": "code",
   "execution_count": null,
   "id": "dca5f2bd",
   "metadata": {},
   "outputs": [],
   "source": [
    "PRIYADHARSHINI S\n",
    "212223240129\n",
    "\n",
    "import cv2\n",
    "import numpy as np\n",
    "\n",
    "# Load the image\n",
    "image = cv2.imread('exp6img.jpeg')  # Replace with your image path\n",
    "if image is None:\n",
    "    raise ValueError(\"Image not found. Check the file path.\")\n",
    "\n",
    "# Convert to grayscale\n",
    "gray = cv2.cvtColor(image, cv2.COLOR_BGR2GRAY)\n",
    "\n",
    "# ------------------ Sobel Edge Detection ------------------\n",
    "# Detect edges in X and Y directions\n",
    "sobelx = cv2.Sobel(gray, cv2.CV_64F, 1, 0, ksize=3)\n",
    "sobely = cv2.Sobel(gray, cv2.CV_64F, 0, 1, ksize=3)\n",
    "sobel_combined = cv2.magnitude(sobelx, sobely)\n",
    "sobel_combined = cv2.convertScaleAbs(sobel_combined)\n",
    "\n",
    "# ------------------ Laplacian Edge Detection ------------------\n",
    "laplacian = cv2.Laplacian(gray, cv2.CV_64F)\n",
    "laplacian = cv2.convertScaleAbs(laplacian)\n",
    "\n",
    "# ------------------ Canny Edge Detection ------------------\n",
    "canny = cv2.Canny(gray, 100, 200)  # Adjust thresholds as needed\n",
    "\n",
    "# ------------------ Display Results ------------------\n",
    "cv2.imshow('Original', image)\n",
    "cv2.imshow('Sobel X', cv2.convertScaleAbs(sobelx))\n",
    "cv2.imshow('Sobel Y', cv2.convertScaleAbs(sobely))\n",
    "cv2.imshow('Sobel Combined', sobel_combined)\n",
    "cv2.imshow('Laplacian', laplacian)\n",
    "cv2.imshow('Canny', canny)\n",
    "\n",
    "cv2.waitKey(0)\n",
    "cv2.destroyAllWindows()"
   ]
  },
  {
   "cell_type": "code",
   "execution_count": null,
   "id": "2b5ff78b",
   "metadata": {},
   "outputs": [],
   "source": [
    "PRIYADHARSHINI S\n",
    "212223240129"
   ]
  }
 ],
 "metadata": {
  "kernelspec": {
   "display_name": "Python 3 (ipykernel)",
   "language": "python",
   "name": "python3"
  },
  "language_info": {
   "codemirror_mode": {
    "name": "ipython",
    "version": 3
   },
   "file_extension": ".py",
   "mimetype": "text/x-python",
   "name": "python",
   "nbconvert_exporter": "python",
   "pygments_lexer": "ipython3",
   "version": "3.11.3"
  }
 },
 "nbformat": 4,
 "nbformat_minor": 5
}
